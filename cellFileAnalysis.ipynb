{
  "nbformat": 4,
  "nbformat_minor": 0,
  "metadata": {
    "colab": {
      "provenance": [],
      "authorship_tag": "ABX9TyML9eS12HcVYblDBT9HY0Hn",
      "include_colab_link": true
    },
    "kernelspec": {
      "name": "python3",
      "display_name": "Python 3"
    },
    "language_info": {
      "name": "python"
    }
  },
  "cells": [
    {
      "cell_type": "markdown",
      "metadata": {
        "id": "view-in-github",
        "colab_type": "text"
      },
      "source": [
        "<a href=\"https://colab.research.google.com/github/Salahbendary/Performance-Analysis-and-Prediction-of-LTE-Networks-Using-AI/blob/main/cellFileAnalysis.ipynb\" target=\"_parent\"><img src=\"https://colab.research.google.com/assets/colab-badge.svg\" alt=\"Open In Colab\"/></a>"
      ]
    },
    {
      "cell_type": "code",
      "execution_count": 29,
      "metadata": {
        "id": "7c1AYLGtnRwj"
      },
      "outputs": [],
      "source": [
        "import pandas as pd"
      ]
    },
    {
      "cell_type": "code",
      "source": [
        "cellFile = pd.read_csv('LTE_CellFile.csv', encoding='ISO-8859-1')"
      ],
      "metadata": {
        "id": "CQBGXSJZnbFw"
      },
      "execution_count": 30,
      "outputs": []
    },
    {
      "cell_type": "code",
      "source": [
        "cellFile.shape"
      ],
      "metadata": {
        "colab": {
          "base_uri": "https://localhost:8080/"
        },
        "id": "5nP2SO5Aq7HB",
        "outputId": "9f414bee-59ca-461f-e074-7da5eb09dc63"
      },
      "execution_count": 31,
      "outputs": [
        {
          "output_type": "execute_result",
          "data": {
            "text/plain": [
              "(22644, 22)"
            ]
          },
          "metadata": {},
          "execution_count": 31
        }
      ]
    },
    {
      "cell_type": "code",
      "source": [
        "cellFile.info()"
      ],
      "metadata": {
        "colab": {
          "base_uri": "https://localhost:8080/"
        },
        "id": "9I3g8RiRnwvu",
        "outputId": "f8b5d909-8a78-4a66-87d1-d2e9af73029b"
      },
      "execution_count": 32,
      "outputs": [
        {
          "output_type": "stream",
          "name": "stdout",
          "text": [
            "<class 'pandas.core.frame.DataFrame'>\n",
            "RangeIndex: 22644 entries, 0 to 22643\n",
            "Data columns (total 22 columns):\n",
            " #   Column          Non-Null Count  Dtype  \n",
            "---  ------          --------------  -----  \n",
            " 0   ï»¿VERSION      22644 non-null  float64\n",
            " 1   GENERATED_DATE  22644 non-null  object \n",
            " 2   VERSION2        22644 non-null  int64  \n",
            " 3   NET_OPERATOR    22644 non-null  object \n",
            " 4   CELLNAME        22644 non-null  object \n",
            " 5   SYSTEM_TYPE     22644 non-null  object \n",
            " 6   EARFCN_DL       22644 non-null  int64  \n",
            " 7   PCI             22644 non-null  int64  \n",
            " 8   PCIG            22644 non-null  int64  \n",
            " 9   LTE_BANDWIDTH   22644 non-null  int64  \n",
            " 10  MCC             22644 non-null  int64  \n",
            " 11  MNC_LENGTH      22644 non-null  int64  \n",
            " 12  MNC             22644 non-null  int64  \n",
            " 13  TAC             22644 non-null  int64  \n",
            " 14  CI              22644 non-null  int64  \n",
            " 15  GEODETIC_DATUM  22644 non-null  object \n",
            " 16  LATITUDE        22644 non-null  float64\n",
            " 17  LONGITUDE       22644 non-null  float64\n",
            " 18  DIRECTION       22644 non-null  int64  \n",
            " 19  BEAM_WIDTH      22644 non-null  int64  \n",
            " 20  HEIGHT          22644 non-null  float64\n",
            " 21  INFORMATION     0 non-null      float64\n",
            "dtypes: float64(5), int64(12), object(5)\n",
            "memory usage: 3.8+ MB\n"
          ]
        }
      ]
    },
    {
      "cell_type": "code",
      "source": [
        "cellFile.drop(['ï»¿VERSION','GENERATED_DATE','VERSION2','NET_OPERATOR','CELLNAME','SYSTEM_TYPE','EARFCN_DL','LTE_BANDWIDTH','MCC' ,'MNC_LENGTH','MNC','GEODETIC_DATUM','INFORMATION'],axis=1,inplace=True)"
      ],
      "metadata": {
        "id": "r-dRdbhSn8ur"
      },
      "execution_count": 33,
      "outputs": []
    },
    {
      "cell_type": "code",
      "source": [
        "cellFile.info()"
      ],
      "metadata": {
        "colab": {
          "base_uri": "https://localhost:8080/"
        },
        "id": "v6tFc1H0pWzD",
        "outputId": "2811bbae-5dca-4b8d-a66c-1ef577f356e8"
      },
      "execution_count": 34,
      "outputs": [
        {
          "output_type": "stream",
          "name": "stdout",
          "text": [
            "<class 'pandas.core.frame.DataFrame'>\n",
            "RangeIndex: 22644 entries, 0 to 22643\n",
            "Data columns (total 9 columns):\n",
            " #   Column      Non-Null Count  Dtype  \n",
            "---  ------      --------------  -----  \n",
            " 0   PCI         22644 non-null  int64  \n",
            " 1   PCIG        22644 non-null  int64  \n",
            " 2   TAC         22644 non-null  int64  \n",
            " 3   CI          22644 non-null  int64  \n",
            " 4   LATITUDE    22644 non-null  float64\n",
            " 5   LONGITUDE   22644 non-null  float64\n",
            " 6   DIRECTION   22644 non-null  int64  \n",
            " 7   BEAM_WIDTH  22644 non-null  int64  \n",
            " 8   HEIGHT      22644 non-null  float64\n",
            "dtypes: float64(3), int64(6)\n",
            "memory usage: 1.6 MB\n"
          ]
        }
      ]
    },
    {
      "cell_type": "code",
      "source": [
        "cellFile.shape"
      ],
      "metadata": {
        "colab": {
          "base_uri": "https://localhost:8080/"
        },
        "id": "ccEFiUmhq0aI",
        "outputId": "c9db4eb7-39d3-4aca-ff5b-64b4b10a9f0f"
      },
      "execution_count": 35,
      "outputs": [
        {
          "output_type": "execute_result",
          "data": {
            "text/plain": [
              "(22644, 9)"
            ]
          },
          "metadata": {},
          "execution_count": 35
        }
      ]
    },
    {
      "cell_type": "code",
      "source": [
        "# TAC Number depends on measurement Area\n",
        "TAC1 = 42342 # First TAC in Sheikh Zayed Area\n",
        "TAC2 = 42345 # Second TAC in Sheikh Zayed Area\n",
        "cellFileTAC1 = cellFile['TAC']== TAC1\n",
        "cellFileTAC2 = cellFile['TAC']== TAC2"
      ],
      "metadata": {
        "id": "_NmXcCEdHN3o"
      },
      "execution_count": 36,
      "outputs": []
    },
    {
      "cell_type": "code",
      "source": [
        "# Filteration of CellFile into Cell File for just the measurement area\n",
        "firstCellFile = cellFile[cellFileTAC1]\n",
        "secondCellFile = cellFile[cellFileTAC2]"
      ],
      "metadata": {
        "id": "7ZKO4vcLH9Mj"
      },
      "execution_count": 37,
      "outputs": []
    },
    {
      "cell_type": "code",
      "source": [
        "# Combine two files together\n",
        "frames = [firstCellFile,secondCellFile]\n",
        "cellFileModified = pd.concat(frames)"
      ],
      "metadata": {
        "id": "UEqGSjgIIXqS"
      },
      "execution_count": 38,
      "outputs": []
    },
    {
      "cell_type": "code",
      "source": [
        "# To make sure that the shape of file has been minimized\n",
        "cellFileModified.shape"
      ],
      "metadata": {
        "id": "enPhvEMGIl0U",
        "colab": {
          "base_uri": "https://localhost:8080/"
        },
        "outputId": "0ecd0fe4-65a3-4985-bc4c-9adaf3378fd7"
      },
      "execution_count": 39,
      "outputs": [
        {
          "output_type": "execute_result",
          "data": {
            "text/plain": [
              "(1000, 9)"
            ]
          },
          "metadata": {},
          "execution_count": 39
        }
      ]
    },
    {
      "cell_type": "code",
      "source": [
        "# To correct PCI in range of 0 to 503 as our data measurement file\n",
        "cellFileModified['CI'] = cellFileModified['PCIG'] * 3 + cellFileModified['PCI']"
      ],
      "metadata": {
        "id": "ATXD0n7yOnur"
      },
      "execution_count": 40,
      "outputs": []
    },
    {
      "cell_type": "code",
      "source": [
        "# Cell Filter Filteration to CSV File to work with\n",
        "cellFileModified.to_csv('cellFileModified.csv', index=True)"
      ],
      "metadata": {
        "id": "BQPxPWAlItme"
      },
      "execution_count": 41,
      "outputs": []
    }
  ]
}